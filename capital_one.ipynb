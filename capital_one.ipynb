{
 "cells": [
  {
   "cell_type": "code",
   "execution_count": 6,
   "id": "b88d6f87-3ff1-4f18-ac89-2f512ed321e1",
   "metadata": {},
   "outputs": [],
   "source": [
    "import pandas as pd\n",
    "import sys\n",
    "import numpy as np"
   ]
  },
  {
   "cell_type": "code",
   "execution_count": 8,
   "id": "59f64bdb-1d5d-49dd-aaec-3709682c0193",
   "metadata": {},
   "outputs": [],
   "source": [
    "import matplotlib.pyplot as plt"
   ]
  },
  {
   "cell_type": "code",
   "execution_count": 10,
   "id": "3f33e848-02a8-4fd1-83b6-c32d009c1aac",
   "metadata": {},
   "outputs": [],
   "source": [
    "quart = pd.read_csv('./Documents/capital_one_case_study/quarterly_financials_organized.csv')"
   ]
  },
  {
   "cell_type": "code",
   "execution_count": 12,
   "id": "b06fea2e-b934-4bd6-967a-604d98fe94b2",
   "metadata": {},
   "outputs": [
    {
     "data": {
      "text/html": [
       "<div>\n",
       "<style scoped>\n",
       "    .dataframe tbody tr th:only-of-type {\n",
       "        vertical-align: middle;\n",
       "    }\n",
       "\n",
       "    .dataframe tbody tr th {\n",
       "        vertical-align: top;\n",
       "    }\n",
       "\n",
       "    .dataframe thead th {\n",
       "        text-align: right;\n",
       "    }\n",
       "</style>\n",
       "<table border=\"1\" class=\"dataframe\">\n",
       "  <thead>\n",
       "    <tr style=\"text-align: right;\">\n",
       "      <th></th>\n",
       "      <th>Yearly Quartiles</th>\n",
       "      <th>Date Quartiles</th>\n",
       "      <th>Monthly Quartiles</th>\n",
       "      <th>Years</th>\n",
       "      <th>Years in Quartiles</th>\n",
       "      <th>Revenue</th>\n",
       "      <th>Cost of Goods Sold</th>\n",
       "      <th>Gross Profit</th>\n",
       "      <th>SG&amp;A Expenses</th>\n",
       "      <th>Operating Expenses</th>\n",
       "      <th>...</th>\n",
       "      <th>Total Non-Operating Expense</th>\n",
       "      <th>Pre-Tax Income</th>\n",
       "      <th>Income Taxes</th>\n",
       "      <th>Income After Taxes/From Continuous Operations</th>\n",
       "      <th>Income/Expense From Discontinued Operations</th>\n",
       "      <th>Net Income</th>\n",
       "      <th>Dividends</th>\n",
       "      <th>Net Income Available to Stockholders</th>\n",
       "      <th>Shares Outstanding</th>\n",
       "      <th>Earnings Per Share</th>\n",
       "    </tr>\n",
       "  </thead>\n",
       "  <tbody>\n",
       "    <tr>\n",
       "      <th>0</th>\n",
       "      <td>2009 1st Q</td>\n",
       "      <td>3/31/2009</td>\n",
       "      <td>March 2009</td>\n",
       "      <td>2009</td>\n",
       "      <td>2009.25</td>\n",
       "      <td>3740</td>\n",
       "      <td>857</td>\n",
       "      <td>2883</td>\n",
       "      <td>3007</td>\n",
       "      <td>3007</td>\n",
       "      <td>...</td>\n",
       "      <td>-18</td>\n",
       "      <td>-142</td>\n",
       "      <td>-58</td>\n",
       "      <td>-83</td>\n",
       "      <td>-25</td>\n",
       "      <td>-108</td>\n",
       "      <td>64</td>\n",
       "      <td>-172.252</td>\n",
       "      <td>390.456</td>\n",
       "      <td>-0.44</td>\n",
       "    </tr>\n",
       "    <tr>\n",
       "      <th>1</th>\n",
       "      <td>2009 2nd Q</td>\n",
       "      <td>6/30/2009</td>\n",
       "      <td>June 2009</td>\n",
       "      <td>2009</td>\n",
       "      <td>2009.50</td>\n",
       "      <td>3949</td>\n",
       "      <td>772</td>\n",
       "      <td>3177</td>\n",
       "      <td>2813</td>\n",
       "      <td>2813</td>\n",
       "      <td>...</td>\n",
       "      <td>-43</td>\n",
       "      <td>321</td>\n",
       "      <td>92</td>\n",
       "      <td>229</td>\n",
       "      <td>-6</td>\n",
       "      <td>223</td>\n",
       "      <td>500</td>\n",
       "      <td>-277.000</td>\n",
       "      <td>422.000</td>\n",
       "      <td>-0.66</td>\n",
       "    </tr>\n",
       "    <tr>\n",
       "      <th>2</th>\n",
       "      <td>2009 3rd Q</td>\n",
       "      <td>9/30/2009</td>\n",
       "      <td>September 2009</td>\n",
       "      <td>2009</td>\n",
       "      <td>2009.75</td>\n",
       "      <td>4255</td>\n",
       "      <td>697</td>\n",
       "      <td>3558</td>\n",
       "      <td>2949</td>\n",
       "      <td>2949</td>\n",
       "      <td>...</td>\n",
       "      <td>-26</td>\n",
       "      <td>583</td>\n",
       "      <td>146</td>\n",
       "      <td>437</td>\n",
       "      <td>-43</td>\n",
       "      <td>394</td>\n",
       "      <td>0</td>\n",
       "      <td>394.000</td>\n",
       "      <td>453.000</td>\n",
       "      <td>0.87</td>\n",
       "    </tr>\n",
       "    <tr>\n",
       "      <th>3</th>\n",
       "      <td>2009 4th Q</td>\n",
       "      <td>12/31/2009</td>\n",
       "      <td>December 2009</td>\n",
       "      <td>2009</td>\n",
       "      <td>2010.00</td>\n",
       "      <td>4006</td>\n",
       "      <td>641</td>\n",
       "      <td>3365</td>\n",
       "      <td>2759</td>\n",
       "      <td>2759</td>\n",
       "      <td>...</td>\n",
       "      <td>-32</td>\n",
       "      <td>574</td>\n",
       "      <td>169</td>\n",
       "      <td>404</td>\n",
       "      <td>-29</td>\n",
       "      <td>375</td>\n",
       "      <td>0</td>\n",
       "      <td>375.252</td>\n",
       "      <td>431.000</td>\n",
       "      <td>0.97</td>\n",
       "    </tr>\n",
       "    <tr>\n",
       "      <th>4</th>\n",
       "      <td>2010 1st Q</td>\n",
       "      <td>3/31/2010</td>\n",
       "      <td>March 2010</td>\n",
       "      <td>2010</td>\n",
       "      <td>2010.25</td>\n",
       "      <td>5091</td>\n",
       "      <td>802</td>\n",
       "      <td>4289</td>\n",
       "      <td>3325</td>\n",
       "      <td>3325</td>\n",
       "      <td>...</td>\n",
       "      <td>0</td>\n",
       "      <td>964</td>\n",
       "      <td>244</td>\n",
       "      <td>720</td>\n",
       "      <td>-84</td>\n",
       "      <td>636</td>\n",
       "      <td>0</td>\n",
       "      <td>636.000</td>\n",
       "      <td>455.000</td>\n",
       "      <td>1.40</td>\n",
       "    </tr>\n",
       "    <tr>\n",
       "      <th>...</th>\n",
       "      <td>...</td>\n",
       "      <td>...</td>\n",
       "      <td>...</td>\n",
       "      <td>...</td>\n",
       "      <td>...</td>\n",
       "      <td>...</td>\n",
       "      <td>...</td>\n",
       "      <td>...</td>\n",
       "      <td>...</td>\n",
       "      <td>...</td>\n",
       "      <td>...</td>\n",
       "      <td>...</td>\n",
       "      <td>...</td>\n",
       "      <td>...</td>\n",
       "      <td>...</td>\n",
       "      <td>...</td>\n",
       "      <td>...</td>\n",
       "      <td>...</td>\n",
       "      <td>...</td>\n",
       "      <td>...</td>\n",
       "      <td>...</td>\n",
       "    </tr>\n",
       "    <tr>\n",
       "      <th>61</th>\n",
       "      <td>2024 2nd Q</td>\n",
       "      <td>6/30/2024</td>\n",
       "      <td>June 2024</td>\n",
       "      <td>2024</td>\n",
       "      <td>2024.50</td>\n",
       "      <td>13240</td>\n",
       "      <td>3734</td>\n",
       "      <td>9506</td>\n",
       "      <td>8836</td>\n",
       "      <td>8855</td>\n",
       "      <td>...</td>\n",
       "      <td>0</td>\n",
       "      <td>651</td>\n",
       "      <td>54</td>\n",
       "      <td>597</td>\n",
       "      <td>0</td>\n",
       "      <td>597</td>\n",
       "      <td>66</td>\n",
       "      <td>531.000</td>\n",
       "      <td>383.900</td>\n",
       "      <td>1.38</td>\n",
       "    </tr>\n",
       "    <tr>\n",
       "      <th>62</th>\n",
       "      <td>2024 3rd Q</td>\n",
       "      <td>9/30/2024</td>\n",
       "      <td>September 2024</td>\n",
       "      <td>2024</td>\n",
       "      <td>2024.75</td>\n",
       "      <td>13798</td>\n",
       "      <td>3784</td>\n",
       "      <td>10014</td>\n",
       "      <td>7776</td>\n",
       "      <td>7796</td>\n",
       "      <td>...</td>\n",
       "      <td>0</td>\n",
       "      <td>2218</td>\n",
       "      <td>441</td>\n",
       "      <td>1777</td>\n",
       "      <td>0</td>\n",
       "      <td>1777</td>\n",
       "      <td>85</td>\n",
       "      <td>1692.000</td>\n",
       "      <td>383.700</td>\n",
       "      <td>4.41</td>\n",
       "    </tr>\n",
       "    <tr>\n",
       "      <th>63</th>\n",
       "      <td>2024 4th Q</td>\n",
       "      <td>12/31/2024</td>\n",
       "      <td>December 2024</td>\n",
       "      <td>2024</td>\n",
       "      <td>2025.00</td>\n",
       "      <td>13809</td>\n",
       "      <td>3619</td>\n",
       "      <td>10190</td>\n",
       "      <td>8712</td>\n",
       "      <td>8731</td>\n",
       "      <td>...</td>\n",
       "      <td>0</td>\n",
       "      <td>1459</td>\n",
       "      <td>366</td>\n",
       "      <td>1093</td>\n",
       "      <td>0</td>\n",
       "      <td>1093</td>\n",
       "      <td>71</td>\n",
       "      <td>1022.000</td>\n",
       "      <td>383.600</td>\n",
       "      <td>2.67</td>\n",
       "    </tr>\n",
       "    <tr>\n",
       "      <th>64</th>\n",
       "      <td>2025 1st Q</td>\n",
       "      <td>3/31/2025</td>\n",
       "      <td>March 2025</td>\n",
       "      <td>2025</td>\n",
       "      <td>2025.25</td>\n",
       "      <td>13405</td>\n",
       "      <td>3405</td>\n",
       "      <td>10000</td>\n",
       "      <td>8255</td>\n",
       "      <td>8271</td>\n",
       "      <td>...</td>\n",
       "      <td>0</td>\n",
       "      <td>1729</td>\n",
       "      <td>325</td>\n",
       "      <td>1404</td>\n",
       "      <td>0</td>\n",
       "      <td>1404</td>\n",
       "      <td>79</td>\n",
       "      <td>1325.000</td>\n",
       "      <td>384.000</td>\n",
       "      <td>3.45</td>\n",
       "    </tr>\n",
       "    <tr>\n",
       "      <th>65</th>\n",
       "      <td>2025 2nd Q</td>\n",
       "      <td>6/30/2025</td>\n",
       "      <td>June 2025</td>\n",
       "      <td>2025</td>\n",
       "      <td>2025.50</td>\n",
       "      <td>16325</td>\n",
       "      <td>3833</td>\n",
       "      <td>12492</td>\n",
       "      <td>18150</td>\n",
       "      <td>18421</td>\n",
       "      <td>...</td>\n",
       "      <td>0</td>\n",
       "      <td>-5929</td>\n",
       "      <td>-1666</td>\n",
       "      <td>-4263</td>\n",
       "      <td>-14</td>\n",
       "      <td>-4277</td>\n",
       "      <td>63</td>\n",
       "      <td>-4340.000</td>\n",
       "      <td>505.600</td>\n",
       "      <td>-8.58</td>\n",
       "    </tr>\n",
       "  </tbody>\n",
       "</table>\n",
       "<p>66 rows × 21 columns</p>\n",
       "</div>"
      ],
      "text/plain": [
       "   Yearly Quartiles Date Quartiles Monthly Quartiles  Years  \\\n",
       "0        2009 1st Q      3/31/2009        March 2009   2009   \n",
       "1        2009 2nd Q      6/30/2009         June 2009   2009   \n",
       "2        2009 3rd Q      9/30/2009    September 2009   2009   \n",
       "3        2009 4th Q     12/31/2009     December 2009   2009   \n",
       "4        2010 1st Q      3/31/2010        March 2010   2010   \n",
       "..              ...            ...               ...    ...   \n",
       "61       2024 2nd Q      6/30/2024         June 2024   2024   \n",
       "62       2024 3rd Q      9/30/2024    September 2024   2024   \n",
       "63       2024 4th Q     12/31/2024     December 2024   2024   \n",
       "64       2025 1st Q      3/31/2025        March 2025   2025   \n",
       "65       2025 2nd Q      6/30/2025         June 2025   2025   \n",
       "\n",
       "    Years in Quartiles  Revenue  Cost of Goods Sold  Gross Profit  \\\n",
       "0              2009.25     3740                 857          2883   \n",
       "1              2009.50     3949                 772          3177   \n",
       "2              2009.75     4255                 697          3558   \n",
       "3              2010.00     4006                 641          3365   \n",
       "4              2010.25     5091                 802          4289   \n",
       "..                 ...      ...                 ...           ...   \n",
       "61             2024.50    13240                3734          9506   \n",
       "62             2024.75    13798                3784         10014   \n",
       "63             2025.00    13809                3619         10190   \n",
       "64             2025.25    13405                3405         10000   \n",
       "65             2025.50    16325                3833         12492   \n",
       "\n",
       "    SG&A Expenses  Operating Expenses  ...  Total Non-Operating Expense  \\\n",
       "0            3007                3007  ...                          -18   \n",
       "1            2813                2813  ...                          -43   \n",
       "2            2949                2949  ...                          -26   \n",
       "3            2759                2759  ...                          -32   \n",
       "4            3325                3325  ...                            0   \n",
       "..            ...                 ...  ...                          ...   \n",
       "61           8836                8855  ...                            0   \n",
       "62           7776                7796  ...                            0   \n",
       "63           8712                8731  ...                            0   \n",
       "64           8255                8271  ...                            0   \n",
       "65          18150               18421  ...                            0   \n",
       "\n",
       "    Pre-Tax Income  Income Taxes  \\\n",
       "0             -142           -58   \n",
       "1              321            92   \n",
       "2              583           146   \n",
       "3              574           169   \n",
       "4              964           244   \n",
       "..             ...           ...   \n",
       "61             651            54   \n",
       "62            2218           441   \n",
       "63            1459           366   \n",
       "64            1729           325   \n",
       "65           -5929         -1666   \n",
       "\n",
       "    Income After Taxes/From Continuous Operations  \\\n",
       "0                                             -83   \n",
       "1                                             229   \n",
       "2                                             437   \n",
       "3                                             404   \n",
       "4                                             720   \n",
       "..                                            ...   \n",
       "61                                            597   \n",
       "62                                           1777   \n",
       "63                                           1093   \n",
       "64                                           1404   \n",
       "65                                          -4263   \n",
       "\n",
       "    Income/Expense From Discontinued Operations  Net Income  Dividends  \\\n",
       "0                                           -25        -108         64   \n",
       "1                                            -6         223        500   \n",
       "2                                           -43         394          0   \n",
       "3                                           -29         375          0   \n",
       "4                                           -84         636          0   \n",
       "..                                          ...         ...        ...   \n",
       "61                                            0         597         66   \n",
       "62                                            0        1777         85   \n",
       "63                                            0        1093         71   \n",
       "64                                            0        1404         79   \n",
       "65                                          -14       -4277         63   \n",
       "\n",
       "    Net Income Available to Stockholders  Shares Outstanding  \\\n",
       "0                               -172.252             390.456   \n",
       "1                               -277.000             422.000   \n",
       "2                                394.000             453.000   \n",
       "3                                375.252             431.000   \n",
       "4                                636.000             455.000   \n",
       "..                                   ...                 ...   \n",
       "61                               531.000             383.900   \n",
       "62                              1692.000             383.700   \n",
       "63                              1022.000             383.600   \n",
       "64                              1325.000             384.000   \n",
       "65                             -4340.000             505.600   \n",
       "\n",
       "    Earnings Per Share  \n",
       "0                -0.44  \n",
       "1                -0.66  \n",
       "2                 0.87  \n",
       "3                 0.97  \n",
       "4                 1.40  \n",
       "..                 ...  \n",
       "61                1.38  \n",
       "62                4.41  \n",
       "63                2.67  \n",
       "64                3.45  \n",
       "65               -8.58  \n",
       "\n",
       "[66 rows x 21 columns]"
      ]
     },
     "execution_count": 12,
     "metadata": {},
     "output_type": "execute_result"
    }
   ],
   "source": [
    "quart"
   ]
  },
  {
   "cell_type": "code",
   "execution_count": 467,
   "id": "af9c910b-4c42-46da-8980-7ef921106a70",
   "metadata": {},
   "outputs": [
    {
     "data": {
      "image/png": "[encoded data removed]",
      "text/plain": [
       "<Figure size 640x480 with 1 Axes>"
      ]
     },
     "metadata": {},
     "output_type": "display_data"
    }
   ],
   "source": [
    "plt.scatter(quart['Years in Quartiles'],quart['Revenue'],marker='x',c='g', label ='Revenue')\n",
    "plt.scatter(quart['Years in Quartiles'],quart['Gross Profit'],marker='x',c='b', label = 'Gross Profit')\n",
    "plt.scatter(quart['Years in Quartiles'],quart['Operating Expenses'],marker='x',c='r', label = 'Operating Expense')\n",
    "plt.plot(quart['Years in Quartiles'],quart['Revenue'],marker='x',c='g')\n",
    "plt.plot(quart['Years in Quartiles'],quart['Gross Profit'],marker='x',c='b')\n",
    "plt.plot(quart['Years in Quartiles'],quart['Operating Expenses'],marker='x',c='r')\n",
    "plt.title(\"Capital One Annual Financial Metrics from 2010 to 2024\")\n",
    "plt.ylabel(\"Millions of Dollars\")\n",
    "plt.xlabel(\"Year\")\n",
    "plt.legend()\n",
    "plt.show()"
   ]
  },
  {
   "cell_type": "code",
   "execution_count": 469,
   "id": "263596e9-fdb5-4a71-940e-1333bfb8f91b",
   "metadata": {},
   "outputs": [
    {
     "data": {
      "image/png": "[encoded data removed]",
      "text/plain": [
       "<Figure size 640x480 with 1 Axes>"
      ]
     },
     "metadata": {},
     "output_type": "display_data"
    }
   ],
   "source": [
    "plt.scatter(quart['Years in Quartiles'],quart['Cost of Goods Sold'],marker='x',c='r', label ='Interest Expense')\n",
    "plt.scatter(quart['Years in Quartiles'],quart['Net Income'],marker='x',c='g', label = 'Net Income')\n",
    "plt.scatter(quart['Years in Quartiles'],quart['Income Taxes'],marker='x',c='orange', label = 'Income Tax')\n",
    "plt.plot(quart['Years in Quartiles'],quart['Cost of Goods Sold'],marker='x',c='r')\n",
    "plt.plot(quart['Years in Quartiles'],quart['Net Income'],marker='x',c='g')\n",
    "plt.plot(quart['Years in Quartiles'],quart['Income Taxes'],marker='x',c='orange')\n",
    "plt.ylabel(\"Millions of Dollars\")\n",
    "plt.xlabel(\"Year\")\n",
    "plt.legend()\n",
    "plt.show()"
   ]
  },
  {
   "cell_type": "code",
   "execution_count": 20,
   "id": "0ae7ea05-36f0-40df-8fa1-1595708dee15",
   "metadata": {},
   "outputs": [],
   "source": [
    "x_full = quart['Years in Quartiles'] \n",
    "y_full = quart['Net Income']"
   ]
  },
  {
   "cell_type": "code",
   "execution_count": 22,
   "id": "0160c798-5dc8-4437-bd1b-af1d02338b07",
   "metadata": {},
   "outputs": [
    {
     "data": {
      "text/plain": [
       "0     2009.25\n",
       "1     2009.50\n",
       "2     2009.75\n",
       "3     2010.00\n",
       "4     2010.25\n",
       "       ...   \n",
       "61    2024.50\n",
       "62    2024.75\n",
       "63    2025.00\n",
       "64    2025.25\n",
       "65    2025.50\n",
       "Name: Years in Quartiles, Length: 66, dtype: float64"
      ]
     },
     "execution_count": 22,
     "metadata": {},
     "output_type": "execute_result"
    }
   ],
   "source": [
    "x_full"
   ]
  },
  {
   "cell_type": "code",
   "execution_count": 24,
   "id": "5454142d-1a4b-4a9a-b0bc-4bd3b7017c37",
   "metadata": {},
   "outputs": [
    {
     "data": {
      "text/plain": [
       "0     -108\n",
       "1      223\n",
       "2      394\n",
       "3      375\n",
       "4      636\n",
       "      ... \n",
       "61     597\n",
       "62    1777\n",
       "63    1093\n",
       "64    1404\n",
       "65   -4277\n",
       "Name: Net Income, Length: 66, dtype: int64"
      ]
     },
     "execution_count": 24,
     "metadata": {},
     "output_type": "execute_result"
    }
   ],
   "source": [
    "y_full"
   ]
  },
  {
   "cell_type": "code",
   "execution_count": 26,
   "id": "5969e4db-0b6b-4cfe-a4b6-6f66ff871a6d",
   "metadata": {},
   "outputs": [],
   "source": [
    "from sklearn.model_selection import train_test_split"
   ]
  },
  {
   "cell_type": "code",
   "execution_count": 28,
   "id": "3cc4c85b-7451-45de-9262-5e6654d2c064",
   "metadata": {},
   "outputs": [],
   "source": [
    "X_train, X_test, Y_train, Y_test = train_test_split(x_full,y_full,test_size=0.2)"
   ]
  },
  {
   "cell_type": "code",
   "execution_count": 30,
   "id": "9e07f9e7-808c-4e15-84af-21870a98641f",
   "metadata": {},
   "outputs": [
    {
     "data": {
      "text/plain": [
       "38    2018.75\n",
       "62    2024.75\n",
       "12    2012.25\n",
       "49    2021.50\n",
       "31    2017.00\n",
       "19    2014.00\n",
       "2     2009.75\n",
       "9     2011.50\n",
       "47    2021.00\n",
       "10    2011.75\n",
       "52    2022.25\n",
       "40    2019.25\n",
       "23    2015.00\n",
       "57    2023.50\n",
       "15    2013.00\n",
       "30    2016.75\n",
       "16    2013.25\n",
       "51    2022.00\n",
       "6     2010.75\n",
       "18    2013.75\n",
       "34    2017.75\n",
       "21    2014.50\n",
       "61    2024.50\n",
       "8     2011.25\n",
       "7     2011.00\n",
       "32    2017.25\n",
       "26    2015.75\n",
       "44    2020.25\n",
       "53    2022.50\n",
       "64    2025.25\n",
       "43    2020.00\n",
       "11    2012.00\n",
       "4     2010.25\n",
       "55    2023.00\n",
       "60    2024.25\n",
       "45    2020.50\n",
       "59    2024.00\n",
       "39    2019.00\n",
       "41    2019.50\n",
       "58    2023.75\n",
       "46    2020.75\n",
       "35    2018.00\n",
       "28    2016.25\n",
       "65    2025.50\n",
       "5     2010.50\n",
       "42    2019.75\n",
       "25    2015.50\n",
       "29    2016.50\n",
       "37    2018.50\n",
       "22    2014.75\n",
       "50    2021.75\n",
       "56    2023.25\n",
       "Name: Years in Quartiles, dtype: float64"
      ]
     },
     "execution_count": 30,
     "metadata": {},
     "output_type": "execute_result"
    }
   ],
   "source": [
    "X_train"
   ]
  },
  {
   "cell_type": "code",
   "execution_count": 32,
   "id": "595e37c4-767a-468a-9577-62ca36e7cc22",
   "metadata": {},
   "outputs": [
    {
     "data": {
      "text/plain": [
       "0     2009.25\n",
       "1     2009.50\n",
       "36    2018.25\n",
       "63    2025.00\n",
       "3     2010.00\n",
       "13    2012.50\n",
       "48    2021.25\n",
       "54    2022.75\n",
       "17    2013.50\n",
       "27    2016.00\n",
       "33    2017.50\n",
       "14    2012.75\n",
       "24    2015.25\n",
       "20    2014.25\n",
       "Name: Years in Quartiles, dtype: float64"
      ]
     },
     "execution_count": 32,
     "metadata": {},
     "output_type": "execute_result"
    }
   ],
   "source": [
    "X_test"
   ]
  },
  {
   "cell_type": "code",
   "execution_count": 36,
   "id": "289e9a1d-8e4d-4781-aa34-005119acd107",
   "metadata": {},
   "outputs": [
    {
     "data": {
      "text/plain": [
       "<matplotlib.collections.PathCollection at 0x164698f50>"
      ]
     },
     "execution_count": 36,
     "metadata": {},
     "output_type": "execute_result"
    },
    {
     "data": {
      "image/png": "[encoded data removed]",
      "text/plain": [
       "<Figure size 640x480 with 1 Axes>"
      ]
     },
     "metadata": {},
     "output_type": "display_data"
    }
   ],
   "source": [
    "plt.scatter(X_train,Y_train,marker = 'x', c = 'g')"
   ]
  },
  {
   "cell_type": "code",
   "execution_count": 320,
   "id": "3b470d5a-cbef-41df-b02e-68a7f0333569",
   "metadata": {},
   "outputs": [
    {
     "data": {
      "text/plain": [
       "<matplotlib.collections.PathCollection at 0x165e40140>"
      ]
     },
     "execution_count": 320,
     "metadata": {},
     "output_type": "execute_result"
    },
    {
     "data": {
      "image/png": "[encoded data removed]",
      "text/plain": [
       "<Figure size 640x480 with 1 Axes>"
      ]
     },
     "metadata": {},
     "output_type": "display_data"
    }
   ],
   "source": [
    "plt.plot(X_train_org,y_pred, color = 'b')\n",
    "plt.scatter(X_test,Y_test,marker = 'x', c = 'g')"
   ]
  },
  {
   "cell_type": "code",
   "execution_count": 150,
   "id": "b3ae3297-0f66-41c3-ab8e-df7ee4a5abe5",
   "metadata": {},
   "outputs": [],
   "source": [
    "X_train_org = X_train.reset_index(drop=True)"
   ]
  },
  {
   "cell_type": "code",
   "execution_count": 152,
   "id": "69458620-355c-458d-8371-365fed45a942",
   "metadata": {},
   "outputs": [
    {
     "data": {
      "text/plain": [
       "0     2018.75\n",
       "1     2024.75\n",
       "2     2012.25\n",
       "3     2021.50\n",
       "4     2017.00\n",
       "5     2014.00\n",
       "6     2009.75\n",
       "7     2011.50\n",
       "8     2021.00\n",
       "9     2011.75\n",
       "10    2022.25\n",
       "11    2019.25\n",
       "12    2015.00\n",
       "13    2023.50\n",
       "14    2013.00\n",
       "15    2016.75\n",
       "16    2013.25\n",
       "17    2022.00\n",
       "18    2010.75\n",
       "19    2013.75\n",
       "20    2017.75\n",
       "21    2014.50\n",
       "22    2024.50\n",
       "23    2011.25\n",
       "24    2011.00\n",
       "25    2017.25\n",
       "26    2015.75\n",
       "27    2020.25\n",
       "28    2022.50\n",
       "29    2025.25\n",
       "30    2020.00\n",
       "31    2012.00\n",
       "32    2010.25\n",
       "33    2023.00\n",
       "34    2024.25\n",
       "35    2020.50\n",
       "36    2024.00\n",
       "37    2019.00\n",
       "38    2019.50\n",
       "39    2023.75\n",
       "40    2020.75\n",
       "41    2018.00\n",
       "42    2016.25\n",
       "43    2025.50\n",
       "44    2010.50\n",
       "45    2019.75\n",
       "46    2015.50\n",
       "47    2016.50\n",
       "48    2018.50\n",
       "49    2014.75\n",
       "50    2021.75\n",
       "51    2023.25\n",
       "Name: Years in Quartiles, dtype: float64"
      ]
     },
     "execution_count": 152,
     "metadata": {},
     "output_type": "execute_result"
    }
   ],
   "source": [
    "X_train_org"
   ]
  },
  {
   "cell_type": "code",
   "execution_count": 154,
   "id": "a4ea2c02-f5e8-48c6-b7bb-6222ce9ff73b",
   "metadata": {},
   "outputs": [
    {
     "data": {
      "text/plain": [
       "0     1502\n",
       "1     1777\n",
       "2     1403\n",
       "3     3536\n",
       "4      791\n",
       "5      852\n",
       "6      394\n",
       "7      911\n",
       "8     2566\n",
       "9      813\n",
       "10    2403\n",
       "11    1412\n",
       "12     999\n",
       "13    1431\n",
       "14     818\n",
       "15    1005\n",
       "16    1056\n",
       "17    2425\n",
       "18     803\n",
       "19    1105\n",
       "20    1107\n",
       "21    1194\n",
       "22     597\n",
       "23    1016\n",
       "24     696\n",
       "25     810\n",
       "26    1114\n",
       "27   -1340\n",
       "28    2031\n",
       "29    1404\n",
       "30    1176\n",
       "31     407\n",
       "32     636\n",
       "33    1232\n",
       "34    1280\n",
       "35    -918\n",
       "36     706\n",
       "37    1261\n",
       "38    1625\n",
       "39    1790\n",
       "40    2406\n",
       "41    -971\n",
       "42    1013\n",
       "43   -4277\n",
       "44     608\n",
       "45    1333\n",
       "46     863\n",
       "47     942\n",
       "48    1906\n",
       "49    1081\n",
       "50    3104\n",
       "51     960\n",
       "Name: Net Income, dtype: int64"
      ]
     },
     "execution_count": 154,
     "metadata": {},
     "output_type": "execute_result"
    }
   ],
   "source": [
    "Y_train_org = Y_train.reset_index(drop=True)\n",
    "Y_train_org"
   ]
  },
  {
   "cell_type": "code",
   "execution_count": 70,
   "id": "e746c347-343c-4134-b518-12d21913ab18",
   "metadata": {},
   "outputs": [],
   "source": [
    "import copy\n",
    "import math"
   ]
  },
  {
   "cell_type": "code",
   "execution_count": 423,
   "id": "b3014084-f474-47c4-b14c-6b05e2c339cc",
   "metadata": {},
   "outputs": [],
   "source": [
    "def compute_cost(x, y, w, b):\n",
    "    m = x.shape[0]\n",
    "    cost_sum = 0\n",
    "    for i in range(m):\n",
    "        f_wb = (w * x[i]) + b\n",
    "        cost = (f_wb - y[i])**2\n",
    "        cost_sum = cost_sum + cost\n",
    "    total_cost = (1/(2*m)) * cost_sum\n",
    "\n",
    "    return total_cost"
   ]
  },
  {
   "cell_type": "code",
   "execution_count": 425,
   "id": "7a11db22-ed12-4755-bc94-987d5e7a872c",
   "metadata": {},
   "outputs": [],
   "source": [
    "def compute_gradient(x, y, w, b):\n",
    "    m = x.shape[0]\n",
    "    dj_db = 0\n",
    "    dj_dw = 0\n",
    "    \n",
    "    for i in range(m):\n",
    "        f_wb = (w * x[i]) + b\n",
    "        dj_db_i = f_wb - y[i]\n",
    "        dj_dw_i = (f_wb - y[i]) * x[i]\n",
    "        dj_db += dj_db_i\n",
    "        dj_dw += dj_dw_i\n",
    "    dj_db = (1/m) * dj_db\n",
    "    dj_dw = (1/m) * dj_dw\n",
    "\n",
    "    return dj_dw, dj_db"
   ]
  },
  {
   "cell_type": "code",
   "execution_count": 427,
   "id": "88061a39-491f-438d-9f9d-6a9b669aa4f9",
   "metadata": {},
   "outputs": [],
   "source": [
    "def gradient_descent(x, y, w_in, b_in, cost_function, gradient_function, alpha, num_iters):\n",
    "    m = len(x)\n",
    "    \n",
    "    J_history = []\n",
    "    w_history = []\n",
    "    w = copy.deepcopy(w_in)\n",
    "    b = b_in\n",
    "\n",
    "    for i in range(num_iters):\n",
    "        \n",
    "        dj_dw, dj_db = gradient_function(x, y, w, b)\n",
    "        b = b - alpha * dj_db\n",
    "        w = w - alpha * dj_dw\n",
    "    \n",
    "        if i<100000:\n",
    "            cost = cost_function(x,y,w,b)\n",
    "            J_history.append(cost)\n",
    "        \n",
    "        if i% math.ceil(num_iters/10) == 0:\n",
    "            w_history.append(w)\n",
    "            print(f\"Iteration {i:4}: Cost{float(J_history[-1]):8.2f}   \")\n",
    "\n",
    "    return w, b, J_history, w_history"
   ]
  },
  {
   "cell_type": "code",
   "execution_count": 453,
   "id": "93010d76-f0da-4d48-a98b-ca9cd5615c96",
   "metadata": {},
   "outputs": [
    {
     "name": "stdout",
     "output_type": "stream",
     "text": [
      "Iteration    0: Cost5369911044.27   \n",
      "Iteration  100: Cost638866.43   \n",
      "Iteration  200: Cost638866.43   \n",
      "Iteration  300: Cost638866.43   \n",
      "Iteration  400: Cost638866.43   \n",
      "Iteration  500: Cost638866.43   \n",
      "Iteration  600: Cost638866.43   \n",
      "Iteration  700: Cost638866.43   \n",
      "Iteration  800: Cost638866.43   \n",
      "Iteration  900: Cost638866.43   \n",
      "w,b found by gradient descent: 0.5173845181383124 9.968031834948746\n"
     ]
    }
   ],
   "source": [
    "initial_w = 65\n",
    "initial_b = 10\n",
    "\n",
    "iterations = 1000\n",
    "alpha = 0.00000005\n",
    "\n",
    "w,b,_,_ = gradient_descent(X_train_org, Y_train_org, initial_w, initial_b, compute_cost, compute_gradient, alpha, iterations)\n",
    "\n",
    "print(\"w,b found by gradient descent:\", w, b)"
   ]
  },
  {
   "cell_type": "code",
   "execution_count": 218,
   "id": "2dc992d2-b190-4c54-a271-aa68f3b4a707",
   "metadata": {},
   "outputs": [],
   "source": [
    "from utils import *"
   ]
  },
  {
   "cell_type": "code",
   "execution_count": 120,
   "id": "96a250da-bcad-4286-a31b-f4932a3af3c0",
   "metadata": {},
   "outputs": [
    {
     "name": "stdout",
     "output_type": "stream",
     "text": [
      "Collecting utils\n",
      "  Downloading utils-1.0.2.tar.gz (13 kB)\n",
      "  Preparing metadata (setup.py) ... \u001b[?25ldone\n",
      "\u001b[?25hBuilding wheels for collected packages: utils\n",
      "  Building wheel for utils (setup.py) ... \u001b[?25ldone\n",
      "\u001b[?25h  Created wheel for utils: filename=utils-1.0.2-py2.py3-none-any.whl size=13906 sha256=2cdaff9e87f111fa34d6b7b1c84dbdb49255864d0adbdaa0b6584ddde1245ac4\n",
      "  Stored in directory: /Users/jai/Library/Caches/pip/wheels/b6/a1/81/1036477786ae0e17b522f6f5a838f9bc4288d1016fc5d0e1ec\n",
      "Successfully built utils\n",
      "Installing collected packages: utils\n",
      "Successfully installed utils-1.0.2\n",
      "Note: you may need to restart the kernel to use updated packages.\n"
     ]
    }
   ],
   "source": [
    "pip install utils"
   ]
  },
  {
   "cell_type": "code",
   "execution_count": 122,
   "id": "4c8a394c-64b5-4934-b97c-927982562326",
   "metadata": {},
   "outputs": [],
   "source": [
    "from utils import *"
   ]
  },
  {
   "cell_type": "code",
   "execution_count": 316,
   "id": "a80db5c0-ebce-42f7-9c0b-c716da775c06",
   "metadata": {},
   "outputs": [],
   "source": [
    "m = X_train_org.shape[0]\n",
    "y_pred = np.zeros(m)\n",
    "for i in range(m):\n",
    "    y_pred[i] = 0.51*X_train_org[i] + 9.97     "
   ]
  },
  {
   "cell_type": "code",
   "execution_count": 318,
   "id": "8876874b-3b61-4c80-bf4b-eb8174f42b29",
   "metadata": {},
   "outputs": [
    {
     "data": {
      "text/plain": [
       "<matplotlib.collections.PathCollection at 0x165de7290>"
      ]
     },
     "execution_count": 318,
     "metadata": {},
     "output_type": "execute_result"
    },
    {
     "data": {
      "image/png": "[encoded data removed]",
      "text/plain": [
       "<Figure size 640x480 with 1 Axes>"
      ]
     },
     "metadata": {},
     "output_type": "display_data"
    }
   ],
   "source": [
    "plt.plot(X_train_org,y_pred, c = \"b\")\n",
    "plt.scatter(X_train_org,Y_train_org,marker ='x', c = 'g')"
   ]
  },
  {
   "cell_type": "code",
   "execution_count": 322,
   "id": "70d6e2d9-4936-45b5-93bf-bbe5e625708f",
   "metadata": {},
   "outputs": [],
   "source": [
    "from sklearn.linear_model import LinearRegression"
   ]
  },
  {
   "cell_type": "code",
   "execution_count": 403,
   "id": "79f67cc9-ea1e-4577-b9ad-c34bcbb2fe1c",
   "metadata": {},
   "outputs": [
    {
     "data": {
      "text/plain": [
       "<matplotlib.collections.PathCollection at 0x154701610>"
      ]
     },
     "execution_count": 403,
     "metadata": {},
     "output_type": "execute_result"
    },
    {
     "data": {
      "image/png": "[encoded data removed]",
      "text/plain": [
       "<Figure size 640x480 with 1 Axes>"
      ]
     },
     "metadata": {},
     "output_type": "display_data"
    }
   ],
   "source": [
    "plt.plot(X_train_org,y_pred, c = \"b\")\n",
    "plt.scatter(X_test_org,Y_test_org,marker ='x', c = 'g')"
   ]
  },
  {
   "cell_type": "code",
   "execution_count": 340,
   "id": "b7b8e8c2-8644-45b1-b73a-9fa011b65649",
   "metadata": {},
   "outputs": [],
   "source": [
    "from sklearn import linear_model\n",
    "from sklearn.metrics import mean_squared_error, r2_score"
   ]
  },
  {
   "cell_type": "code",
   "execution_count": 374,
   "id": "f44e27d2-5e21-407b-9e5b-eee1173ff6f1",
   "metadata": {},
   "outputs": [],
   "source": [
    "X_test_org = X_test.reset_index(drop=True)\n",
    "Y_test_org = Y_test.reset_index(drop=True)\n"
   ]
  },
  {
   "cell_type": "code",
   "execution_count": 382,
   "id": "52e8f9b5-a060-4e97-b648-567b11be300d",
   "metadata": {},
   "outputs": [],
   "source": [
    "X_test_shaped = X_test_org.to_numpy().reshape(-1,1)\n",
    "Y_test_shaped = Y_test_org.to_numpy().reshape(-1,1)"
   ]
  },
  {
   "cell_type": "code",
   "execution_count": 350,
   "id": "ab549ead-17f9-4cd1-bb99-ffa1a0a90dae",
   "metadata": {},
   "outputs": [],
   "source": [
    "X_train_array = X_train_org.to_numpy()\n",
    "Y_train_array = Y_train_org.to_numpy()"
   ]
  },
  {
   "cell_type": "code",
   "execution_count": 354,
   "id": "5e34812d-9f23-478d-8c44-de21f8ac3458",
   "metadata": {},
   "outputs": [
    {
     "name": "stdout",
     "output_type": "stream",
     "text": [
      "<class 'numpy.ndarray'>\n",
      "<class 'numpy.ndarray'>\n"
     ]
    }
   ],
   "source": [
    "print(type(Y_train_array))\n",
    "print(type(X_train_array))"
   ]
  },
  {
   "cell_type": "code",
   "execution_count": 364,
   "id": "846f8b80-7d7e-4670-a04b-cb077362f79d",
   "metadata": {},
   "outputs": [],
   "source": [
    "X_train_shaped = X_train_array.reshape(-1,1)\n",
    "Y_train_shaped = Y_train_array.reshape(-1,1)"
   ]
  },
  {
   "cell_type": "code",
   "execution_count": null,
   "id": "11fcee96-740a-4f3a-a02e-22a7430a3898",
   "metadata": {},
   "outputs": [],
   "source": []
  },
  {
   "cell_type": "code",
   "execution_count": 342,
   "id": "fe208716-16e9-4f2e-8ba6-7b62732ac4ad",
   "metadata": {},
   "outputs": [],
   "source": [
    "model = linear_model.LinearRegression()"
   ]
  },
  {
   "cell_type": "code",
   "execution_count": 368,
   "id": "1505aeda-4769-4464-b45b-aaa7647fe7c4",
   "metadata": {},
   "outputs": [
    {
     "data": {
      "text/html": [
       "<style>#sk-container-id-1 {\n",
       "  /* Definition of color scheme common for light and dark mode */\n",
       "  --sklearn-color-text: black;\n",
       "  --sklearn-color-line: gray;\n",
       "  /* Definition of color scheme for unfitted estimators */\n",
       "  --sklearn-color-unfitted-level-0: #fff5e6;\n",
       "  --sklearn-color-unfitted-level-1: #f6e4d2;\n",
       "  --sklearn-color-unfitted-level-2: #ffe0b3;\n",
       "  --sklearn-color-unfitted-level-3: chocolate;\n",
       "  /* Definition of color scheme for fitted estimators */\n",
       "  --sklearn-color-fitted-level-0: #f0f8ff;\n",
       "  --sklearn-color-fitted-level-1: #d4ebff;\n",
       "  --sklearn-color-fitted-level-2: #b3dbfd;\n",
       "  --sklearn-color-fitted-level-3: cornflowerblue;\n",
       "\n",
       "  /* Specific color for light theme */\n",
       "  --sklearn-color-text-on-default-background: var(--sg-text-color, var(--theme-code-foreground, var(--jp-content-font-color1, black)));\n",
       "  --sklearn-color-background: var(--sg-background-color, var(--theme-background, var(--jp-layout-color0, white)));\n",
       "  --sklearn-color-border-box: var(--sg-text-color, var(--theme-code-foreground, var(--jp-content-font-color1, black)));\n",
       "  --sklearn-color-icon: #696969;\n",
       "\n",
       "  @media (prefers-color-scheme: dark) {\n",
       "    /* Redefinition of color scheme for dark theme */\n",
       "    --sklearn-color-text-on-default-background: var(--sg-text-color, var(--theme-code-foreground, var(--jp-content-font-color1, white)));\n",
       "    --sklearn-color-background: var(--sg-background-color, var(--theme-background, var(--jp-layout-color0, #111)));\n",
       "    --sklearn-color-border-box: var(--sg-text-color, var(--theme-code-foreground, var(--jp-content-font-color1, white)));\n",
       "    --sklearn-color-icon: #878787;\n",
       "  }\n",
       "}\n",
       "\n",
       "#sk-container-id-1 {\n",
       "  color: var(--sklearn-color-text);\n",
       "}\n",
       "\n",
       "#sk-container-id-1 pre {\n",
       "  padding: 0;\n",
       "}\n",
       "\n",
       "#sk-container-id-1 input.sk-hidden--visually {\n",
       "  border: 0;\n",
       "  clip: rect(1px 1px 1px 1px);\n",
       "  clip: rect(1px, 1px, 1px, 1px);\n",
       "  height: 1px;\n",
       "  margin: -1px;\n",
       "  overflow: hidden;\n",
       "  padding: 0;\n",
       "  position: absolute;\n",
       "  width: 1px;\n",
       "}\n",
       "\n",
       "#sk-container-id-1 div.sk-dashed-wrapped {\n",
       "  border: 1px dashed var(--sklearn-color-line);\n",
       "  margin: 0 0.4em 0.5em 0.4em;\n",
       "  box-sizing: border-box;\n",
       "  padding-bottom: 0.4em;\n",
       "  background-color: var(--sklearn-color-background);\n",
       "}\n",
       "\n",
       "#sk-container-id-1 div.sk-container {\n",
       "  /* jupyter's `normalize.less` sets `[hidden] { display: none; }`\n",
       "     but bootstrap.min.css set `[hidden] { display: none !important; }`\n",
       "     so we also need the `!important` here to be able to override the\n",
       "     default hidden behavior on the sphinx rendered scikit-learn.org.\n",
       "     See: https://github.com/scikit-learn/scikit-learn/issues/21755 */\n",
       "  display: inline-block !important;\n",
       "  position: relative;\n",
       "}\n",
       "\n",
       "#sk-container-id-1 div.sk-text-repr-fallback {\n",
       "  display: none;\n",
       "}\n",
       "\n",
       "div.sk-parallel-item,\n",
       "div.sk-serial,\n",
       "div.sk-item {\n",
       "  /* draw centered vertical line to link estimators */\n",
       "  background-image: linear-gradient(var(--sklearn-color-text-on-default-background), var(--sklearn-color-text-on-default-background));\n",
       "  background-size: 2px 100%;\n",
       "  background-repeat: no-repeat;\n",
       "  background-position: center center;\n",
       "}\n",
       "\n",
       "/* Parallel-specific style estimator block */\n",
       "\n",
       "#sk-container-id-1 div.sk-parallel-item::after {\n",
       "  content: \"\";\n",
       "  width: 100%;\n",
       "  border-bottom: 2px solid var(--sklearn-color-text-on-default-background);\n",
       "  flex-grow: 1;\n",
       "}\n",
       "\n",
       "#sk-container-id-1 div.sk-parallel {\n",
       "  display: flex;\n",
       "  align-items: stretch;\n",
       "  justify-content: center;\n",
       "  background-color: var(--sklearn-color-background);\n",
       "  position: relative;\n",
       "}\n",
       "\n",
       "#sk-container-id-1 div.sk-parallel-item {\n",
       "  display: flex;\n",
       "  flex-direction: column;\n",
       "}\n",
       "\n",
       "#sk-container-id-1 div.sk-parallel-item:first-child::after {\n",
       "  align-self: flex-end;\n",
       "  width: 50%;\n",
       "}\n",
       "\n",
       "#sk-container-id-1 div.sk-parallel-item:last-child::after {\n",
       "  align-self: flex-start;\n",
       "  width: 50%;\n",
       "}\n",
       "\n",
       "#sk-container-id-1 div.sk-parallel-item:only-child::after {\n",
       "  width: 0;\n",
       "}\n",
       "\n",
       "/* Serial-specific style estimator block */\n",
       "\n",
       "#sk-container-id-1 div.sk-serial {\n",
       "  display: flex;\n",
       "  flex-direction: column;\n",
       "  align-items: center;\n",
       "  background-color: var(--sklearn-color-background);\n",
       "  padding-right: 1em;\n",
       "  padding-left: 1em;\n",
       "}\n",
       "\n",
       "\n",
       "/* Toggleable style: style used for estimator/Pipeline/ColumnTransformer box that is\n",
       "clickable and can be expanded/collapsed.\n",
       "- Pipeline and ColumnTransformer use this feature and define the default style\n",
       "- Estimators will overwrite some part of the style using the `sk-estimator` class\n",
       "*/\n",
       "\n",
       "/* Pipeline and ColumnTransformer style (default) */\n",
       "\n",
       "#sk-container-id-1 div.sk-toggleable {\n",
       "  /* Default theme specific background. It is overwritten whether we have a\n",
       "  specific estimator or a Pipeline/ColumnTransformer */\n",
       "  background-color: var(--sklearn-color-background);\n",
       "}\n",
       "\n",
       "/* Toggleable label */\n",
       "#sk-container-id-1 label.sk-toggleable__label {\n",
       "  cursor: pointer;\n",
       "  display: block;\n",
       "  width: 100%;\n",
       "  margin-bottom: 0;\n",
       "  padding: 0.5em;\n",
       "  box-sizing: border-box;\n",
       "  text-align: center;\n",
       "}\n",
       "\n",
       "#sk-container-id-1 label.sk-toggleable__label-arrow:before {\n",
       "  /* Arrow on the left of the label */\n",
       "  content: \"▸\";\n",
       "  float: left;\n",
       "  margin-right: 0.25em;\n",
       "  color: var(--sklearn-color-icon);\n",
       "}\n",
       "\n",
       "#sk-container-id-1 label.sk-toggleable__label-arrow:hover:before {\n",
       "  color: var(--sklearn-color-text);\n",
       "}\n",
       "\n",
       "/* Toggleable content - dropdown */\n",
       "\n",
       "#sk-container-id-1 div.sk-toggleable__content {\n",
       "  max-height: 0;\n",
       "  max-width: 0;\n",
       "  overflow: hidden;\n",
       "  text-align: left;\n",
       "  /* unfitted */\n",
       "  background-color: var(--sklearn-color-unfitted-level-0);\n",
       "}\n",
       "\n",
       "#sk-container-id-1 div.sk-toggleable__content.fitted {\n",
       "  /* fitted */\n",
       "  background-color: var(--sklearn-color-fitted-level-0);\n",
       "}\n",
       "\n",
       "#sk-container-id-1 div.sk-toggleable__content pre {\n",
       "  margin: 0.2em;\n",
       "  border-radius: 0.25em;\n",
       "  color: var(--sklearn-color-text);\n",
       "  /* unfitted */\n",
       "  background-color: var(--sklearn-color-unfitted-level-0);\n",
       "}\n",
       "\n",
       "#sk-container-id-1 div.sk-toggleable__content.fitted pre {\n",
       "  /* unfitted */\n",
       "  background-color: var(--sklearn-color-fitted-level-0);\n",
       "}\n",
       "\n",
       "#sk-container-id-1 input.sk-toggleable__control:checked~div.sk-toggleable__content {\n",
       "  /* Expand drop-down */\n",
       "  max-height: 200px;\n",
       "  max-width: 100%;\n",
       "  overflow: auto;\n",
       "}\n",
       "\n",
       "#sk-container-id-1 input.sk-toggleable__control:checked~label.sk-toggleable__label-arrow:before {\n",
       "  content: \"▾\";\n",
       "}\n",
       "\n",
       "/* Pipeline/ColumnTransformer-specific style */\n",
       "\n",
       "#sk-container-id-1 div.sk-label input.sk-toggleable__control:checked~label.sk-toggleable__label {\n",
       "  color: var(--sklearn-color-text);\n",
       "  background-color: var(--sklearn-color-unfitted-level-2);\n",
       "}\n",
       "\n",
       "#sk-container-id-1 div.sk-label.fitted input.sk-toggleable__control:checked~label.sk-toggleable__label {\n",
       "  background-color: var(--sklearn-color-fitted-level-2);\n",
       "}\n",
       "\n",
       "/* Estimator-specific style */\n",
       "\n",
       "/* Colorize estimator box */\n",
       "#sk-container-id-1 div.sk-estimator input.sk-toggleable__control:checked~label.sk-toggleable__label {\n",
       "  /* unfitted */\n",
       "  background-color: var(--sklearn-color-unfitted-level-2);\n",
       "}\n",
       "\n",
       "#sk-container-id-1 div.sk-estimator.fitted input.sk-toggleable__control:checked~label.sk-toggleable__label {\n",
       "  /* fitted */\n",
       "  background-color: var(--sklearn-color-fitted-level-2);\n",
       "}\n",
       "\n",
       "#sk-container-id-1 div.sk-label label.sk-toggleable__label,\n",
       "#sk-container-id-1 div.sk-label label {\n",
       "  /* The background is the default theme color */\n",
       "  color: var(--sklearn-color-text-on-default-background);\n",
       "}\n",
       "\n",
       "/* On hover, darken the color of the background */\n",
       "#sk-container-id-1 div.sk-label:hover label.sk-toggleable__label {\n",
       "  color: var(--sklearn-color-text);\n",
       "  background-color: var(--sklearn-color-unfitted-level-2);\n",
       "}\n",
       "\n",
       "/* Label box, darken color on hover, fitted */\n",
       "#sk-container-id-1 div.sk-label.fitted:hover label.sk-toggleable__label.fitted {\n",
       "  color: var(--sklearn-color-text);\n",
       "  background-color: var(--sklearn-color-fitted-level-2);\n",
       "}\n",
       "\n",
       "/* Estimator label */\n",
       "\n",
       "#sk-container-id-1 div.sk-label label {\n",
       "  font-family: monospace;\n",
       "  font-weight: bold;\n",
       "  display: inline-block;\n",
       "  line-height: 1.2em;\n",
       "}\n",
       "\n",
       "#sk-container-id-1 div.sk-label-container {\n",
       "  text-align: center;\n",
       "}\n",
       "\n",
       "/* Estimator-specific */\n",
       "#sk-container-id-1 div.sk-estimator {\n",
       "  font-family: monospace;\n",
       "  border: 1px dotted var(--sklearn-color-border-box);\n",
       "  border-radius: 0.25em;\n",
       "  box-sizing: border-box;\n",
       "  margin-bottom: 0.5em;\n",
       "  /* unfitted */\n",
       "  background-color: var(--sklearn-color-unfitted-level-0);\n",
       "}\n",
       "\n",
       "#sk-container-id-1 div.sk-estimator.fitted {\n",
       "  /* fitted */\n",
       "  background-color: var(--sklearn-color-fitted-level-0);\n",
       "}\n",
       "\n",
       "/* on hover */\n",
       "#sk-container-id-1 div.sk-estimator:hover {\n",
       "  /* unfitted */\n",
       "  background-color: var(--sklearn-color-unfitted-level-2);\n",
       "}\n",
       "\n",
       "#sk-container-id-1 div.sk-estimator.fitted:hover {\n",
       "  /* fitted */\n",
       "  background-color: var(--sklearn-color-fitted-level-2);\n",
       "}\n",
       "\n",
       "/* Specification for estimator info (e.g. \"i\" and \"?\") */\n",
       "\n",
       "/* Common style for \"i\" and \"?\" */\n",
       "\n",
       ".sk-estimator-doc-link,\n",
       "a:link.sk-estimator-doc-link,\n",
       "a:visited.sk-estimator-doc-link {\n",
       "  float: right;\n",
       "  font-size: smaller;\n",
       "  line-height: 1em;\n",
       "  font-family: monospace;\n",
       "  background-color: var(--sklearn-color-background);\n",
       "  border-radius: 1em;\n",
       "  height: 1em;\n",
       "  width: 1em;\n",
       "  text-decoration: none !important;\n",
       "  margin-left: 1ex;\n",
       "  /* unfitted */\n",
       "  border: var(--sklearn-color-unfitted-level-1) 1pt solid;\n",
       "  color: var(--sklearn-color-unfitted-level-1);\n",
       "}\n",
       "\n",
       ".sk-estimator-doc-link.fitted,\n",
       "a:link.sk-estimator-doc-link.fitted,\n",
       "a:visited.sk-estimator-doc-link.fitted {\n",
       "  /* fitted */\n",
       "  border: var(--sklearn-color-fitted-level-1) 1pt solid;\n",
       "  color: var(--sklearn-color-fitted-level-1);\n",
       "}\n",
       "\n",
       "/* On hover */\n",
       "div.sk-estimator:hover .sk-estimator-doc-link:hover,\n",
       ".sk-estimator-doc-link:hover,\n",
       "div.sk-label-container:hover .sk-estimator-doc-link:hover,\n",
       ".sk-estimator-doc-link:hover {\n",
       "  /* unfitted */\n",
       "  background-color: var(--sklearn-color-unfitted-level-3);\n",
       "  color: var(--sklearn-color-background);\n",
       "  text-decoration: none;\n",
       "}\n",
       "\n",
       "div.sk-estimator.fitted:hover .sk-estimator-doc-link.fitted:hover,\n",
       ".sk-estimator-doc-link.fitted:hover,\n",
       "div.sk-label-container:hover .sk-estimator-doc-link.fitted:hover,\n",
       ".sk-estimator-doc-link.fitted:hover {\n",
       "  /* fitted */\n",
       "  background-color: var(--sklearn-color-fitted-level-3);\n",
       "  color: var(--sklearn-color-background);\n",
       "  text-decoration: none;\n",
       "}\n",
       "\n",
       "/* Span, style for the box shown on hovering the info icon */\n",
       ".sk-estimator-doc-link span {\n",
       "  display: none;\n",
       "  z-index: 9999;\n",
       "  position: relative;\n",
       "  font-weight: normal;\n",
       "  right: .2ex;\n",
       "  padding: .5ex;\n",
       "  margin: .5ex;\n",
       "  width: min-content;\n",
       "  min-width: 20ex;\n",
       "  max-width: 50ex;\n",
       "  color: var(--sklearn-color-text);\n",
       "  box-shadow: 2pt 2pt 4pt #999;\n",
       "  /* unfitted */\n",
       "  background: var(--sklearn-color-unfitted-level-0);\n",
       "  border: .5pt solid var(--sklearn-color-unfitted-level-3);\n",
       "}\n",
       "\n",
       ".sk-estimator-doc-link.fitted span {\n",
       "  /* fitted */\n",
       "  background: var(--sklearn-color-fitted-level-0);\n",
       "  border: var(--sklearn-color-fitted-level-3);\n",
       "}\n",
       "\n",
       ".sk-estimator-doc-link:hover span {\n",
       "  display: block;\n",
       "}\n",
       "\n",
       "/* \"?\"-specific style due to the `<a>` HTML tag */\n",
       "\n",
       "#sk-container-id-1 a.estimator_doc_link {\n",
       "  float: right;\n",
       "  font-size: 1rem;\n",
       "  line-height: 1em;\n",
       "  font-family: monospace;\n",
       "  background-color: var(--sklearn-color-background);\n",
       "  border-radius: 1rem;\n",
       "  height: 1rem;\n",
       "  width: 1rem;\n",
       "  text-decoration: none;\n",
       "  /* unfitted */\n",
       "  color: var(--sklearn-color-unfitted-level-1);\n",
       "  border: var(--sklearn-color-unfitted-level-1) 1pt solid;\n",
       "}\n",
       "\n",
       "#sk-container-id-1 a.estimator_doc_link.fitted {\n",
       "  /* fitted */\n",
       "  border: var(--sklearn-color-fitted-level-1) 1pt solid;\n",
       "  color: var(--sklearn-color-fitted-level-1);\n",
       "}\n",
       "\n",
       "/* On hover */\n",
       "#sk-container-id-1 a.estimator_doc_link:hover {\n",
       "  /* unfitted */\n",
       "  background-color: var(--sklearn-color-unfitted-level-3);\n",
       "  color: var(--sklearn-color-background);\n",
       "  text-decoration: none;\n",
       "}\n",
       "\n",
       "#sk-container-id-1 a.estimator_doc_link.fitted:hover {\n",
       "  /* fitted */\n",
       "  background-color: var(--sklearn-color-fitted-level-3);\n",
       "}\n",
       "</style><div id=\"sk-container-id-1\" class=\"sk-top-container\"><div class=\"sk-text-repr-fallback\"><pre>LinearRegression()</pre><b>In a Jupyter environment, please rerun this cell to show the HTML representation or trust the notebook. <br />On GitHub, the HTML representation is unable to render, please try loading this page with nbviewer.org.</b></div><div class=\"sk-container\" hidden><div class=\"sk-item\"><div class=\"sk-estimator fitted sk-toggleable\"><input class=\"sk-toggleable__control sk-hidden--visually\" id=\"sk-estimator-id-1\" type=\"checkbox\" checked><label for=\"sk-estimator-id-1\" class=\"sk-toggleable__label fitted sk-toggleable__label-arrow fitted\">&nbsp;&nbsp;LinearRegression<a class=\"sk-estimator-doc-link fitted\" rel=\"noreferrer\" target=\"_blank\" href=\"https://scikit-learn.org/1.5/modules/generated/sklearn.linear_model.LinearRegression.html\">?<span>Documentation for LinearRegression</span></a><span class=\"sk-estimator-doc-link fitted\">i<span>Fitted</span></span></label><div class=\"sk-toggleable__content fitted\"><pre>LinearRegression()</pre></div> </div></div></div></div>"
      ],
      "text/plain": [
       "LinearRegression()"
      ]
     },
     "execution_count": 368,
     "metadata": {},
     "output_type": "execute_result"
    }
   ],
   "source": [
    "model.fit(X_train_shaped,Y_train_shaped)"
   ]
  },
  {
   "cell_type": "code",
   "execution_count": 385,
   "id": "88b357c3-800f-4e4b-adff-ed2359eb112c",
   "metadata": {},
   "outputs": [],
   "source": [
    "Y_predict = model.predict(X_test_shaped)"
   ]
  },
  {
   "cell_type": "code",
   "execution_count": 387,
   "id": "0e24b22e-945b-40b2-bb27-9adea00c999d",
   "metadata": {},
   "outputs": [
    {
     "name": "stdout",
     "output_type": "stream",
     "text": [
      "Coefficients: [[23.83790727]]\n",
      "Intercept: [-47047.95714347]\n",
      "Mean squared error (MSE): 540932.17\n",
      "Coefficient of determination (R^2): 0.17\n"
     ]
    }
   ],
   "source": [
    "print('Coefficients:', model.coef_)\n",
    "print('Intercept:', model.intercept_)\n",
    "print('Mean squared error (MSE): %.2f'\n",
    "      % mean_squared_error(Y_test_shaped,Y_predict))\n",
    "print('Coefficient of determination (R^2): %.2f'\n",
    "      % r2_score(Y_test_shaped, Y_predict))"
   ]
  },
  {
   "cell_type": "code",
   "execution_count": 407,
   "id": "a9ffdccf-55b7-4955-aa4a-990ac96db79f",
   "metadata": {},
   "outputs": [
    {
     "data": {
      "text/plain": [
       "array([[2009.25],\n",
       "       [2009.5 ],\n",
       "       [2018.25],\n",
       "       [2025.  ],\n",
       "       [2010.  ],\n",
       "       [2012.5 ],\n",
       "       [2021.25],\n",
       "       [2022.75],\n",
       "       [2013.5 ],\n",
       "       [2016.  ],\n",
       "       [2017.5 ],\n",
       "       [2012.75],\n",
       "       [2015.25],\n",
       "       [2014.25]])"
      ]
     },
     "execution_count": 407,
     "metadata": {},
     "output_type": "execute_result"
    }
   ],
   "source": [
    "X_test_shaped"
   ]
  },
  {
   "cell_type": "code",
   "execution_count": 391,
   "id": "6b6e758e-ad9e-4219-8913-5189f839d7ff",
   "metadata": {},
   "outputs": [
    {
     "data": {
      "text/plain": [
       "array([[ 848.35802971],\n",
       "       [ 854.31750653],\n",
       "       [1062.8991951 ],\n",
       "       [1223.80506914],\n",
       "       [ 866.23646016],\n",
       "       [ 925.83122833],\n",
       "       [1134.4129169 ],\n",
       "       [1170.1697778 ],\n",
       "       [ 949.66913559],\n",
       "       [1009.26390375],\n",
       "       [1045.02076465],\n",
       "       [ 931.79070514],\n",
       "       [ 991.38547331],\n",
       "       [ 967.54756604]])"
      ]
     },
     "execution_count": 391,
     "metadata": {},
     "output_type": "execute_result"
    }
   ],
   "source": [
    "Y_predict"
   ]
  },
  {
   "cell_type": "code",
   "execution_count": 401,
   "id": "90f95c83-664e-4cbf-9414-495f2d48830a",
   "metadata": {},
   "outputs": [
    {
     "data": {
      "text/plain": [
       "<matplotlib.collections.PathCollection at 0x150899820>"
      ]
     },
     "execution_count": 401,
     "metadata": {},
     "output_type": "execute_result"
    },
    {
     "data": {
      "image/png": "[encoded data removed]",
      "text/plain": [
       "<Figure size 640x480 with 1 Axes>"
      ]
     },
     "metadata": {},
     "output_type": "display_data"
    }
   ],
   "source": [
    "plt.plot(X_test_shaped,Y_predict)\n",
    "plt.scatter(X_train_shaped,Y_train_shaped, color = 'g')"
   ]
  },
  {
   "cell_type": "code",
   "execution_count": 405,
   "id": "44814df8-258c-4c6c-99f4-d7f9843fbf2f",
   "metadata": {},
   "outputs": [
    {
     "data": {
      "text/plain": [
       "<matplotlib.collections.PathCollection at 0x154779610>"
      ]
     },
     "execution_count": 405,
     "metadata": {},
     "output_type": "execute_result"
    },
    {
     "data": {
      "image/png": "[encoded data removed]",
      "text/plain": [
       "<Figure size 640x480 with 1 Axes>"
      ]
     },
     "metadata": {},
     "output_type": "display_data"
    }
   ],
   "source": [
    "plt.plot(X_test_shaped,Y_predict)\n",
    "plt.scatter(X_test_shaped,Y_test_shaped, color = 'g')"
   ]
  },
  {
   "cell_type": "code",
   "execution_count": 475,
   "id": "0690e5cb-9345-45d7-8a22-66fe0dd910ae",
   "metadata": {},
   "outputs": [
    {
     "data": {
      "image/png": "[encoded data removed]",
      "text/plain": [
       "<Figure size 640x480 with 1 Axes>"
      ]
     },
     "metadata": {},
     "output_type": "display_data"
    }
   ],
   "source": [
    "plt.scatter(x_full,y_full,marker = 'x', color = 'g', label = \"Net Income\")\n",
    "plt.plot(X_test_shaped,Y_predict, label = \"Regression\")\n",
    "plt.title(\"Financial Projection of Net Income\")\n",
    "plt.ylabel(\"Millions of Dollars\")\n",
    "plt.xlabel(\"Year\")\n",
    "plt.legend()\n",
    "plt.show()"
   ]
  },
  {
   "cell_type": "code",
   "execution_count": 457,
   "id": "7cead276-7fe2-4deb-b653-5138c1a8d71a",
   "metadata": {},
   "outputs": [
    {
     "data": {
      "text/plain": [
       "array([270466.7367256])"
      ]
     },
     "execution_count": 457,
     "metadata": {},
     "output_type": "execute_result"
    }
   ],
   "source": [
    "compute_cost(X_test_shaped,Y_test,23.8379,-47047.95714)"
   ]
  },
  {
   "cell_type": "code",
   "execution_count": 459,
   "id": "1b23f04a-d1ec-4e81-aa94-4798d370adae",
   "metadata": {},
   "outputs": [
    {
     "data": {
      "text/plain": [
       "array([324890.43308904])"
      ]
     },
     "execution_count": 459,
     "metadata": {},
     "output_type": "execute_result"
    }
   ],
   "source": [
    "compute_cost(X_test_shaped,Y_test_shaped,0.51738,9.968)"
   ]
  },
  {
   "cell_type": "code",
   "execution_count": 461,
   "id": "f2f8b375-2b7a-4829-8add-f4006358ac61",
   "metadata": {},
   "outputs": [
    {
     "data": {
      "text/plain": [
       "array([632994.25413705])"
      ]
     },
     "execution_count": 461,
     "metadata": {},
     "output_type": "execute_result"
    }
   ],
   "source": [
    "compute_cost(X_train_shaped,Y_train_shaped,23.8379,-47047.95714)"
   ]
  },
  {
   "cell_type": "code",
   "execution_count": 463,
   "id": "c519d3f7-a04b-471a-b4a9-09ec415f6328",
   "metadata": {},
   "outputs": [
    {
     "data": {
      "text/plain": [
       "array([638866.43261273])"
      ]
     },
     "execution_count": 463,
     "metadata": {},
     "output_type": "execute_result"
    }
   ],
   "source": [
    "compute_cost(X_train_shaped,Y_train_shaped,0.51738,9.968)"
   ]
  }
 ],
 "metadata": {
  "kernelspec": {
   "display_name": "Python [conda env:base] *",
   "language": "python",
   "name": "conda-base-py"
  },
  "language_info": {
   "codemirror_mode": {
    "name": "ipython",
    "version": 3
   },
   "file_extension": ".py",
   "mimetype": "text/x-python",
   "name": "python",
   "nbconvert_exporter": "python",
   "pygments_lexer": "ipython3",
   "version": "3.12.7"
  }
 },
 "nbformat": 4,
 "nbformat_minor": 5
}
